{
  "nbformat": 4,
  "nbformat_minor": 0,
  "metadata": {
    "colab": {
      "provenance": [],
      "collapsed_sections": [],
      "authorship_tag": "ABX9TyM9i7wIVkCpbheE1o9qhK4T",
      "include_colab_link": true
    },
    "kernelspec": {
      "name": "python3",
      "display_name": "Python 3"
    },
    "language_info": {
      "name": "python"
    }
  },
  "cells": [
    {
      "cell_type": "markdown",
      "metadata": {
        "id": "view-in-github",
        "colab_type": "text"
      },
      "source": [
        "<a href=\"https://colab.research.google.com/github/EvaBarrios/practica_python/blob/main/Untitled2.ipynb\" target=\"_parent\"><img src=\"https://colab.research.google.com/assets/colab-badge.svg\" alt=\"Open In Colab\"/></a>"
      ]
    },
    {
      "cell_type": "markdown",
      "source": [
        "Sintaxis de *diccionario*. Ejemplo"
      ],
      "metadata": {
        "id": "lVlI2TFBH-cS"
      }
    },
    {
      "cell_type": "code",
      "execution_count": 1,
      "metadata": {
        "colab": {
          "base_uri": "https://localhost:8080/"
        },
        "id": "9gDoOfu1EWa0",
        "outputId": "cc28cb0f-0840-43f3-807f-5a421d87d08c"
      },
      "outputs": [
        {
          "output_type": "stream",
          "name": "stdout",
          "text": [
            "{1: 'Hola', 2: 'Como estas', 3: 'Bien'}\n"
          ]
        }
      ],
      "source": [
        "diccionario = {1: 'Hola', 2:'Como estas', 3: \"Bien\" }\n",
        "print(diccionario)"
      ]
    },
    {
      "cell_type": "markdown",
      "source": [
        "Sintaxis con identacion:"
      ],
      "metadata": {
        "id": "f31z9JnvIZts"
      }
    },
    {
      "cell_type": "code",
      "source": [
        "diccionario = {\n",
        "    1: 'Hola', \n",
        "    2:'Como estas', \n",
        "    3: \"Bien\" \n",
        "    }\n",
        "print(diccionario)"
      ],
      "metadata": {
        "colab": {
          "base_uri": "https://localhost:8080/"
        },
        "id": "Sg29yljSIVi8",
        "outputId": "870d253f-895c-4716-8c2c-2e4d80a81200"
      },
      "execution_count": 2,
      "outputs": [
        {
          "output_type": "stream",
          "name": "stdout",
          "text": [
            "{1: 'Hola', 2: 'Como estas', 3: 'Bien'}\n"
          ]
        }
      ]
    },
    {
      "cell_type": "markdown",
      "source": [
        "Puedo redefinir el diccionario:"
      ],
      "metadata": {
        "id": "3hqEwwc3In0s"
      }
    },
    {
      "cell_type": "code",
      "source": [
        "diccionario = {}\n",
        "print(diccionario)"
      ],
      "metadata": {
        "colab": {
          "base_uri": "https://localhost:8080/"
        },
        "id": "j5cxRvExIsVs",
        "outputId": "0e326368-66ec-4d20-c50b-19189dee1a60"
      },
      "execution_count": 3,
      "outputs": [
        {
          "output_type": "stream",
          "name": "stdout",
          "text": [
            "{}\n"
          ]
        }
      ]
    },
    {
      "cell_type": "code",
      "source": [],
      "metadata": {
        "id": "J0qirBRQIyqP"
      },
      "execution_count": null,
      "outputs": []
    },
    {
      "cell_type": "markdown",
      "source": [
        "Puedo redefinir, colocando la clave repetida. Python toma la ultima repeticion de la clave."
      ],
      "metadata": {
        "id": "DZhUukS5JIbz"
      }
    },
    {
      "cell_type": "code",
      "source": [
        "diccionario = {\n",
        "    1: 'Hola', \n",
        "    2:'Como estas', \n",
        "    3: \"Bien\",\n",
        "    2: 'redefino 2' # repito clave 2 para redefinir\n",
        "    }\n",
        "print(diccionario)"
      ],
      "metadata": {
        "colab": {
          "base_uri": "https://localhost:8080/"
        },
        "outputId": "f0ebcd09-8387-446b-83e7-52e1516b5af4",
        "id": "k92VuyLyI2PQ"
      },
      "execution_count": 5,
      "outputs": [
        {
          "output_type": "stream",
          "name": "stdout",
          "text": [
            "{1: 'Hola', 2: 'redefino 2', 3: 'Bien'}\n"
          ]
        }
      ]
    },
    {
      "cell_type": "markdown",
      "source": [
        "Si quiero obtener un valor del diccionario:"
      ],
      "metadata": {
        "id": "obqupQjHJd8i"
      }
    },
    {
      "cell_type": "code",
      "source": [
        "print(diccionario[1])"
      ],
      "metadata": {
        "colab": {
          "base_uri": "https://localhost:8080/"
        },
        "id": "NjwLqZ0IJleu",
        "outputId": "cbc65e0c-454e-4099-a87f-d4e28ac880b8"
      },
      "execution_count": 6,
      "outputs": [
        {
          "output_type": "stream",
          "name": "stdout",
          "text": [
            "Hola\n"
          ]
        }
      ]
    },
    {
      "cell_type": "markdown",
      "source": [
        "La funcion *get()* devuelve el valor correspondiente a la clave ingresada"
      ],
      "metadata": {
        "id": "gTQgxeoCKIhR"
      }
    },
    {
      "cell_type": "code",
      "source": [
        "resultado = diccionario.get(2)\n",
        "print(resultado)"
      ],
      "metadata": {
        "colab": {
          "base_uri": "https://localhost:8080/"
        },
        "id": "LxDlaXJSKAyx",
        "outputId": "e6003a51-a372-422e-d515-c54907662196"
      },
      "execution_count": 7,
      "outputs": [
        {
          "output_type": "stream",
          "name": "stdout",
          "text": [
            "redefino 2\n"
          ]
        }
      ]
    },
    {
      "cell_type": "code",
      "source": [
        "resultado = diccionario.get(0) # la clave 0 no esta en este diccionario\n",
        "print(resultado) # no sale error, sino None"
      ],
      "metadata": {
        "colab": {
          "base_uri": "https://localhost:8080/"
        },
        "id": "cP_Z3xOaKbwd",
        "outputId": "84757f3a-16ed-4672-fd18-cdae6c661ce5"
      },
      "execution_count": 8,
      "outputs": [
        {
          "output_type": "stream",
          "name": "stdout",
          "text": [
            "None\n"
          ]
        }
      ]
    },
    {
      "cell_type": "code",
      "source": [
        "resultado = diccionario.get(0, 'No existe esta clave') # la clave 0 no esta en este diccionario\n",
        "print(resultado) # no sale error, sino None o el mensaje que esciba\n",
        "resultado = diccionario.get(2, 'No existe esta clave')\n",
        "print(resultado)"
      ],
      "metadata": {
        "colab": {
          "base_uri": "https://localhost:8080/"
        },
        "outputId": "b7ebd07b-17dc-4edd-bc84-62526565436a",
        "id": "hd2GA7CiKz8-"
      },
      "execution_count": 12,
      "outputs": [
        {
          "output_type": "stream",
          "name": "stdout",
          "text": [
            "No existe esta clave\n",
            "redefino 2\n"
          ]
        }
      ]
    },
    {
      "cell_type": "markdown",
      "source": [
        "Puedo agregar valores a diccionario"
      ],
      "metadata": {
        "id": "mOqw0an9Ldk1"
      }
    },
    {
      "cell_type": "code",
      "source": [
        "diccionario[4] = 'Que bueno'\n",
        "print(diccionario)"
      ],
      "metadata": {
        "colab": {
          "base_uri": "https://localhost:8080/"
        },
        "id": "qYQqAEKcLZmc",
        "outputId": "ac31b2da-2a9c-4f52-bde4-d0a59bd86056"
      },
      "execution_count": 13,
      "outputs": [
        {
          "output_type": "stream",
          "name": "stdout",
          "text": [
            "{1: 'Hola', 2: 'redefino 2', 3: 'Bien', 4: 'Que bueno'}\n"
          ]
        }
      ]
    },
    {
      "cell_type": "markdown",
      "source": [
        "Recorrer diccionario y obtener sus valores"
      ],
      "metadata": {
        "id": "DOe7ZgMJMGv5"
      }
    },
    {
      "cell_type": "code",
      "source": [
        "for valor in diccionario:\n",
        "  print(valor) # imprime la clave"
      ],
      "metadata": {
        "colab": {
          "base_uri": "https://localhost:8080/"
        },
        "id": "R0jPppvzMFcy",
        "outputId": "bf9850a0-dda3-49cf-cfdb-f83f976a71fb"
      },
      "execution_count": 14,
      "outputs": [
        {
          "output_type": "stream",
          "name": "stdout",
          "text": [
            "1\n",
            "2\n",
            "3\n",
            "4\n"
          ]
        }
      ]
    },
    {
      "cell_type": "markdown",
      "source": [
        "Veamos que si queremos recorrer un diccionario de la siguiente manera, nos da error"
      ],
      "metadata": {
        "id": "K8sUWPizNEVP"
      }
    },
    {
      "cell_type": "code",
      "source": [
        "for clave,valor in diccionario:\n",
        "  print(f'{clave} ----> {valor}') # imprime la clave y su correspondiente valor"
      ],
      "metadata": {
        "colab": {
          "base_uri": "https://localhost:8080/",
          "height": 183
        },
        "id": "P3GNggBoMWyQ",
        "outputId": "e8b0dbc8-0dad-469e-8b21-0a2b6c1c8d5b"
      },
      "execution_count": 20,
      "outputs": [
        {
          "output_type": "error",
          "ename": "TypeError",
          "evalue": "ignored",
          "traceback": [
            "\u001b[0;31m---------------------------------------------------------------------------\u001b[0m",
            "\u001b[0;31mTypeError\u001b[0m                                 Traceback (most recent call last)",
            "\u001b[0;32m<ipython-input-20-005aa313a8af>\u001b[0m in \u001b[0;36m<module>\u001b[0;34m\u001b[0m\n\u001b[0;32m----> 1\u001b[0;31m \u001b[0;32mfor\u001b[0m \u001b[0mclave\u001b[0m\u001b[0;34m,\u001b[0m\u001b[0mvalor\u001b[0m \u001b[0;32min\u001b[0m \u001b[0mdiccionario\u001b[0m\u001b[0;34m:\u001b[0m\u001b[0;34m\u001b[0m\u001b[0;34m\u001b[0m\u001b[0m\n\u001b[0m\u001b[1;32m      2\u001b[0m   \u001b[0mprint\u001b[0m\u001b[0;34m(\u001b[0m\u001b[0;34mf'{clave} ----> {valor}'\u001b[0m\u001b[0;34m)\u001b[0m \u001b[0;31m# imprime la clave y su correspondiente valor\u001b[0m\u001b[0;34m\u001b[0m\u001b[0;34m\u001b[0m\u001b[0m\n",
            "\u001b[0;31mTypeError\u001b[0m: cannot unpack non-iterable int object"
          ]
        }
      ]
    },
    {
      "cell_type": "markdown",
      "source": [
        "Asi si, con el metodo *items*"
      ],
      "metadata": {
        "id": "2XMMMePRNMRy"
      }
    },
    {
      "cell_type": "code",
      "source": [
        "for clave,valor in diccionario.items():\n",
        "  print(f'{clave} ----> {valor}') # imprime la clave y su correspondiente valor"
      ],
      "metadata": {
        "colab": {
          "base_uri": "https://localhost:8080/"
        },
        "id": "JZo8_LRANQsN",
        "outputId": "86d439b6-15cd-4235-f466-909851e8a82c"
      },
      "execution_count": 19,
      "outputs": [
        {
          "output_type": "stream",
          "name": "stdout",
          "text": [
            "1 ----> Hola\n",
            "2 ----> redefino 2\n",
            "3 ----> Bien\n",
            "4 ----> Que bueno\n"
          ]
        }
      ]
    },
    {
      "cell_type": "markdown",
      "source": [
        "Otra manera de recorrer un diccionario, utilizando *get()*"
      ],
      "metadata": {
        "id": "Vl0yk5hNOVkJ"
      }
    },
    {
      "cell_type": "code",
      "source": [
        "for clave in diccionario:\n",
        "  resultado = diccionario.get(clave, 'No existe esta clave')\n",
        "  print(resultado)\n"
      ],
      "metadata": {
        "colab": {
          "base_uri": "https://localhost:8080/"
        },
        "id": "gNffW8dKN4we",
        "outputId": "81bd450b-5c86-4656-ffd7-651d973bdea7"
      },
      "execution_count": 22,
      "outputs": [
        {
          "output_type": "stream",
          "name": "stdout",
          "text": [
            "Hola\n",
            "redefino 2\n",
            "Bien\n",
            "Que bueno\n"
          ]
        }
      ]
    },
    {
      "cell_type": "markdown",
      "source": [
        "Si quiero obtener/retornar solo los valores del diccionario utilizo la funcion *values*"
      ],
      "metadata": {
        "id": "CzFbsS32OqFF"
      }
    },
    {
      "cell_type": "code",
      "source": [
        "valores = diccionario.values()\n",
        "print(valores)"
      ],
      "metadata": {
        "colab": {
          "base_uri": "https://localhost:8080/"
        },
        "id": "9U6aBcAnO0zF",
        "outputId": "e9d2240d-ed1a-4b56-8d36-ac84d3e3a93d"
      },
      "execution_count": 23,
      "outputs": [
        {
          "output_type": "stream",
          "name": "stdout",
          "text": [
            "dict_values(['Hola', 'redefino 2', 'Bien', 'Que bueno'])\n"
          ]
        }
      ]
    },
    {
      "cell_type": "markdown",
      "source": [
        "Y si quiero recorrer los valores:"
      ],
      "metadata": {
        "id": "6nSLRL1VPM_u"
      }
    },
    {
      "cell_type": "code",
      "source": [
        "valores = diccionario.values()\n",
        "for valor in valores:\n",
        "  print(valor)"
      ],
      "metadata": {
        "colab": {
          "base_uri": "https://localhost:8080/"
        },
        "id": "8Hl6kr-CPQgD",
        "outputId": "5c3fa5c4-0e55-4cec-8b5f-1e15c7e9be3b"
      },
      "execution_count": 24,
      "outputs": [
        {
          "output_type": "stream",
          "name": "stdout",
          "text": [
            "Hola\n",
            "redefino 2\n",
            "Bien\n",
            "Que bueno\n"
          ]
        }
      ]
    },
    {
      "cell_type": "markdown",
      "source": [
        "O, simplemente:"
      ],
      "metadata": {
        "id": "-JtqG8OJP4uN"
      }
    },
    {
      "cell_type": "code",
      "source": [
        "for valor in diccionario.values():\n",
        "  print(valor)"
      ],
      "metadata": {
        "colab": {
          "base_uri": "https://localhost:8080/"
        },
        "id": "bkEKqrKQPqAM",
        "outputId": "ae487389-2feb-494e-9af4-289bdb1c9c00"
      },
      "execution_count": 25,
      "outputs": [
        {
          "output_type": "stream",
          "name": "stdout",
          "text": [
            "Hola\n",
            "redefino 2\n",
            "Bien\n",
            "Que bueno\n"
          ]
        }
      ]
    },
    {
      "cell_type": "markdown",
      "source": [
        "Y si quiero solo las claves, utilizo la funcion *keys()*"
      ],
      "metadata": {
        "id": "Rnc4VJlLQElV"
      }
    },
    {
      "cell_type": "code",
      "source": [
        "for clave in diccionario.keys():\n",
        "  print(clave)"
      ],
      "metadata": {
        "colab": {
          "base_uri": "https://localhost:8080/"
        },
        "id": "8AGfG6j6QMX9",
        "outputId": "3e27bf94-95ec-4c10-f397-9dbc90ec3f03"
      },
      "execution_count": 26,
      "outputs": [
        {
          "output_type": "stream",
          "name": "stdout",
          "text": [
            "1\n",
            "2\n",
            "3\n",
            "4\n"
          ]
        }
      ]
    }
  ]
}