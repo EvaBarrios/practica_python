{
 "cells": [
  {
   "cell_type": "markdown",
   "id": "792b3468",
   "metadata": {},
   "source": [
    "## Ciertas funciones, como int o str, devuelven un valor en lugar de generarlo. El valor devuelto se puede usar más adelante en el código, por ejemplo, al asignarlo a una variable. Para hacer esto para sus funciones definidas, puede usar la declaración de retorno."
   ]
  },
  {
   "cell_type": "markdown",
   "id": "453fae32",
   "metadata": {},
   "source": [
    "## Para hacer esto para sus funciones definidas, puede usar la declaración de retorno."
   ]
  },
  {
   "cell_type": "code",
   "execution_count": null,
   "id": "dbb382b9",
   "metadata": {},
   "outputs": [],
   "source": [
    "def sum(x, y):\n",
    "    return x+y\n",
    "sum(3,4)"
   ]
  },
  {
   "cell_type": "code",
   "execution_count": null,
   "id": "f4d5ed81",
   "metadata": {},
   "outputs": [],
   "source": [
    "def square(x):\n",
    "    return x**2\n",
    "square(3)"
   ]
  },
  {
   "cell_type": "markdown",
   "id": "fdab8d1c",
   "metadata": {},
   "source": [
    "### Retorno es útil cuando no necesita imprimir el resultado de la función, pero necesita usarlo en su código. Por ejemplo, la función de retiro() de una cuenta bancaria podría devolver el saldo restante de la cuenta."
   ]
  },
  {
   "cell_type": "markdown",
   "id": "b44a636d",
   "metadata": {},
   "source": [
    "## Puede usar el valor devuelto en su código, por ejemplo, una declaración if:"
   ]
  },
  {
   "cell_type": "code",
   "execution_count": null,
   "id": "daa301b8",
   "metadata": {},
   "outputs": [],
   "source": [
    "def max(x,y):\n",
    "    if x>=y:\n",
    "        return x\n",
    "    else:\n",
    "        return y\n",
    "    \n",
    "if(max(6, 8) > 10):\n",
    "    print(\"Yes\")\n",
    "else:\n",
    "    print(\"Nop\")"
   ]
  },
  {
   "cell_type": "markdown",
   "id": "19ecfc4e",
   "metadata": {},
   "source": [
    "## Una vez que devuelve un valor de una función, inmediatamente deja de ejecutarse. Cualquier código colocado después de la declaración de devolución no se ejecutará. Por ejemplo:"
   ]
  },
  {
   "cell_type": "code",
   "execution_count": 2,
   "id": "5dae3bdc",
   "metadata": {},
   "outputs": [
    {
     "name": "stdout",
     "output_type": "stream",
     "text": [
      "9\n"
     ]
    }
   ],
   "source": [
    "def add_numbers(x,y):\n",
    "    return x+y\n",
    "    print(\"Esto no se imprimirá\")\n",
    "print(add_numbers(4,5))\n",
    "    "
   ]
  },
  {
   "cell_type": "markdown",
   "id": "21a49b13",
   "metadata": {},
   "source": [
    "## Una función solo puede regresar una vez, por lo tanto, si necesita devolver múltiples valores, puede usar una lista."
   ]
  },
  {
   "cell_type": "code",
   "execution_count": 15,
   "id": "c3593001",
   "metadata": {},
   "outputs": [
    {
     "name": "stdout",
     "output_type": "stream",
     "text": [
      "[8, 10]\n"
     ]
    }
   ],
   "source": [
    "def double(a, b):\n",
    "    return [a*2, b*2]\n",
    "x=double(4, 5)\n",
    "print(x)"
   ]
  },
  {
   "cell_type": "code",
   "execution_count": null,
   "id": "b403d102",
   "metadata": {},
   "outputs": [],
   "source": []
  }
 ],
 "metadata": {
  "kernelspec": {
   "display_name": "Python 3 (ipykernel)",
   "language": "python",
   "name": "python3"
  },
  "language_info": {
   "codemirror_mode": {
    "name": "ipython",
    "version": 3
   },
   "file_extension": ".py",
   "mimetype": "text/x-python",
   "name": "python",
   "nbconvert_exporter": "python",
   "pygments_lexer": "ipython3",
   "version": "3.9.4"
  }
 },
 "nbformat": 4,
 "nbformat_minor": 5
}
