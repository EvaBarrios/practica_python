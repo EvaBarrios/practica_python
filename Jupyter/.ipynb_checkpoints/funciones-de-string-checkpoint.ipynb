{
 "cells": [
  {
   "cell_type": "markdown",
   "id": "cd03a565",
   "metadata": {},
   "source": [
    "# Funciones de string\n",
    "---\n",
    "### lower() y upper() cambian el caso de una cadena a minúsculas y mayúsculas.\n"
   ]
  },
  {
   "cell_type": "code",
   "execution_count": 1,
   "id": "f8b69d99",
   "metadata": {},
   "outputs": [
    {
     "name": "stdout",
     "output_type": "stream",
     "text": [
      "ESTO SE VERÁ EN MAYÚSCULAS\n"
     ]
    }
   ],
   "source": [
    "print(\"esto se verá en mayúsculas\".upper())\n",
    "print(\"ESTO SE VERÁ EN MINÚSCULAS\".lower())"
   ]
  },
  {
   "cell_type": "code",
   "execution_count": null,
   "id": "4700e700",
   "metadata": {},
   "outputs": [],
   "source": []
  },
  {
   "cell_type": "code",
   "execution_count": null,
   "id": "a0654fda",
   "metadata": {},
   "outputs": [],
   "source": []
  }
 ],
 "metadata": {
  "kernelspec": {
   "display_name": "Python 3 (ipykernel)",
   "language": "python",
   "name": "python3"
  },
  "language_info": {
   "codemirror_mode": {
    "name": "ipython",
    "version": 3
   },
   "file_extension": ".py",
   "mimetype": "text/x-python",
   "name": "python",
   "nbconvert_exporter": "python",
   "pygments_lexer": "ipython3",
   "version": "3.9.4"
  }
 },
 "nbformat": 4,
 "nbformat_minor": 5
}
