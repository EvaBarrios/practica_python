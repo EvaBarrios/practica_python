{
 "cells": [
  {
   "cell_type": "markdown",
   "id": "6b212b31",
   "metadata": {},
   "source": [
    "## Puede crear sus propias funciones usando la instrucción def. \n",
    "### La función debe definirse antes de poder llamarla. Llamar a una función antes de su definición provocará un error.\n",
    "### Aquí hay un ejemplo de una función llamada my_func. No acepta argumentos e imprime \"spam\" tres veces."
   ]
  },
  {
   "cell_type": "code",
   "execution_count": null,
   "id": "98fce65c",
   "metadata": {},
   "outputs": [],
   "source": [
    "def my_func():\n",
    "    print(\"spam\")\n",
    "    print(\"spam\")\n",
    "    print(\"spam\")\n",
    "# Al igual que con las declaraciones if, el bloque de código dentro de cada función comienza con dos puntos (:) y está sangrado."
   ]
  },
  {
   "cell_type": "code",
   "execution_count": null,
   "id": "9827ffe5",
   "metadata": {},
   "outputs": [],
   "source": [
    "#llamando a la función my-func 3 veces (usando su nombre y los paréntesis)\n",
    "my_func()\n",
    "my_func()\n",
    "my_func()"
   ]
  },
  {
   "cell_type": "markdown",
   "id": "36b70e6b",
   "metadata": {},
   "source": [
    "## Las funciones pueden tomar argumentos, que se pueden usar para generar la salida de la función."
   ]
  },
  {
   "cell_type": "markdown",
   "id": "fdea5446",
   "metadata": {},
   "source": [
    "### Como puede ver en el ejemplo, el argumento se define dentro de los paréntesis y se denomina palabra."
   ]
  },
  {
   "cell_type": "code",
   "execution_count": 2,
   "id": "f4b2968e",
   "metadata": {},
   "outputs": [
    {
     "name": "stdout",
     "output_type": "stream",
     "text": [
      "hola!\n"
     ]
    }
   ],
   "source": [
    "def exclamation(word):\n",
    "    print(word+\"!\")\n",
    "exclamation(\"hola\")"
   ]
  },
  {
   "cell_type": "markdown",
   "id": "279635f5",
   "metadata": {},
   "source": [
    "### Puede llamar a la misma función con diferentes argumentos."
   ]
  },
  {
   "cell_type": "code",
   "execution_count": 3,
   "id": "43c352c0",
   "metadata": {},
   "outputs": [
    {
     "name": "stdout",
     "output_type": "stream",
     "text": [
      "hasta luego!\n",
      "qué tal!\n"
     ]
    }
   ],
   "source": [
    "exclamation(\"hasta luego\")\n",
    "exclamation(\"qué tal\")"
   ]
  },
  {
   "cell_type": "markdown",
   "id": "8aa1104c",
   "metadata": {},
   "source": [
    "## Los argumentos se utilizan para pasar información a la función. Esto nos permite reutilizar la lógica de la función para diferentes valores."
   ]
  },
  {
   "cell_type": "markdown",
   "id": "696e1474",
   "metadata": {},
   "source": [
    "## Puede definir funciones con más de un argumento; separarlos con comas."
   ]
  },
  {
   "cell_type": "code",
   "execution_count": 4,
   "id": "1f1f9544",
   "metadata": {},
   "outputs": [
    {
     "name": "stdout",
     "output_type": "stream",
     "text": [
      "13\n"
     ]
    }
   ],
   "source": [
    "def suma_de_dos(x,y):\n",
    "    print(x+y)\n",
    "suma_de_dos(5, 8)"
   ]
  },
  {
   "cell_type": "markdown",
   "id": "d5d92c80",
   "metadata": {},
   "source": [
    "## Como puede ver en los ejemplos anteriores, los argumentos se pueden usar como variables dentro de la función.\n",
    "### Puede tener diferentes sentencias en sus funciones, trabajando con las variables de argumento, como sentencias if y bucles."
   ]
  },
  {
   "cell_type": "code",
   "execution_count": 12,
   "id": "e373df0d",
   "metadata": {},
   "outputs": [
    {
     "name": "stdout",
     "output_type": "stream",
     "text": [
      "7 es impar\n",
      "8 es par\n"
     ]
    }
   ],
   "source": [
    "def par_o_impar(num):\n",
    "    if num&2==0:\n",
    "        print(str(num)+\" es par\")\n",
    "    else:\n",
    "        print(str(num)+\" es impar\")\n",
    "par_o_impar(7)\n",
    "par_o_impar(8)"
   ]
  },
  {
   "cell_type": "code",
   "execution_count": null,
   "id": "5c0f7edb",
   "metadata": {},
   "outputs": [],
   "source": []
  }
 ],
 "metadata": {
  "kernelspec": {
   "display_name": "Python 3 (ipykernel)",
   "language": "python",
   "name": "python3"
  },
  "language_info": {
   "codemirror_mode": {
    "name": "ipython",
    "version": 3
   },
   "file_extension": ".py",
   "mimetype": "text/x-python",
   "name": "python",
   "nbconvert_exporter": "python",
   "pygments_lexer": "ipython3",
   "version": "3.9.4"
  }
 },
 "nbformat": 4,
 "nbformat_minor": 5
}
