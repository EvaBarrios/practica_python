{
 "cells": [
  {
   "cell_type": "markdown",
   "id": "cd03a565",
   "metadata": {},
   "source": [
    "# Funciones de string\n",
    "---\n",
    "### lower() y upper() cambian el caso de una cadena a minúsculas y mayúsculas.\n"
   ]
  },
  {
   "cell_type": "code",
   "execution_count": 1,
   "id": "f8b69d99",
   "metadata": {},
   "outputs": [
    {
     "name": "stdout",
     "output_type": "stream",
     "text": [
      "ESTO SE VERÁ EN MAYÚSCULAS\n"
     ]
    }
   ],
   "source": [
    "print(\"esto se verá en mayúsculas\".upper())\n",
    "print(\"ESTO SE VERÁ EN MINÚSCULAS\".lower())"
   ]
  },
  {
   "cell_type": "markdown",
   "id": "a0ab497d",
   "metadata": {},
   "source": [
    "## Teclado roto\n",
    "### Reemplace todos los caracteres # con espacios y emita el resultado."
   ]
  },
  {
   "cell_type": "code",
   "execution_count": 1,
   "id": "a0654fda",
   "metadata": {},
   "outputs": [
    {
     "name": "stdout",
     "output_type": "stream",
     "text": [
      "hola#soy#un#perro\n",
      "hola#soy#un#perro\n",
      "hola soy un perro\n"
     ]
    }
   ],
   "source": [
    "msg=input()\n",
    "print(msg)\n",
    "print(msg.replace(\"#\", \" \"))\n"
   ]
  },
  {
   "cell_type": "code",
   "execution_count": null,
   "id": "df269432",
   "metadata": {},
   "outputs": [],
   "source": []
  }
 ],
 "metadata": {
  "kernelspec": {
   "display_name": "Python 3 (ipykernel)",
   "language": "python",
   "name": "python3"
  },
  "language_info": {
   "codemirror_mode": {
    "name": "ipython",
    "version": 3
   },
   "file_extension": ".py",
   "mimetype": "text/x-python",
   "name": "python",
   "nbconvert_exporter": "python",
   "pygments_lexer": "ipython3",
   "version": "3.9.4"
  }
 },
 "nbformat": 4,
 "nbformat_minor": 5
}
