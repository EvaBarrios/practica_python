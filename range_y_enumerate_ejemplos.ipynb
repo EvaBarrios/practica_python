{
  "nbformat": 4,
  "nbformat_minor": 0,
  "metadata": {
    "colab": {
      "provenance": [],
      "collapsed_sections": [],
      "authorship_tag": "ABX9TyMWsmc9Uc3/V7gtjVEwp66R",
      "include_colab_link": true
    },
    "kernelspec": {
      "name": "python3",
      "display_name": "Python 3"
    },
    "language_info": {
      "name": "python"
    }
  },
  "cells": [
    {
      "cell_type": "markdown",
      "metadata": {
        "id": "view-in-github",
        "colab_type": "text"
      },
      "source": [
        "<a href=\"https://colab.research.google.com/github/EvaBarrios/practica_python/blob/main/range_y_enumerate_ejemplos.ipynb\" target=\"_parent\"><img src=\"https://colab.research.google.com/assets/colab-badge.svg\" alt=\"Open In Colab\"/></a>"
      ]
    },
    {
      "cell_type": "markdown",
      "source": [
        "Utilizacion de la funcion *range(n)* imprime desde 0 hasta n-1"
      ],
      "metadata": {
        "id": "nJ7noUly9383"
      }
    },
    {
      "cell_type": "code",
      "execution_count": null,
      "metadata": {
        "id": "EZd10xkx93A9"
      },
      "outputs": [],
      "source": [
        "for valor in range(20):\n",
        "  print(valor)"
      ]
    },
    {
      "cell_type": "markdown",
      "source": [
        "*range(m, n)*: imprime desde m hasta n-1"
      ],
      "metadata": {
        "id": "EIcKQ4HI-0PO"
      }
    },
    {
      "cell_type": "code",
      "source": [
        "for valor in range(10, 21):\n",
        "   print(valor)"
      ],
      "metadata": {
        "id": "57R-EO3N-RV_"
      },
      "execution_count": null,
      "outputs": []
    },
    {
      "cell_type": "markdown",
      "source": [
        "*range(m, n, s)*: imprime desde m hasta n PERO de s en s"
      ],
      "metadata": {
        "id": "LmV50Avv_eE_"
      }
    },
    {
      "cell_type": "code",
      "source": [
        "for valor in range(1, 31, 2):\n",
        "  print(valor)"
      ],
      "metadata": {
        "id": "ABNtAfPa_dIt"
      },
      "execution_count": null,
      "outputs": []
    },
    {
      "cell_type": "markdown",
      "source": [
        "Con *range* podemos recorrer los elementos de una lista"
      ],
      "metadata": {
        "id": "0ZzPWINz_9Sf"
      }
    },
    {
      "cell_type": "code",
      "source": [
        "lista = [1, 2, 3, 4, 5, 6, 7, 8]\n",
        "for valor in range(len(lista)):\n",
        "  print(lista[valor])"
      ],
      "metadata": {
        "id": "RNY2T01X_95X"
      },
      "execution_count": null,
      "outputs": []
    },
    {
      "cell_type": "markdown",
      "source": [
        "Tambien podemos imprimir las posiciones de esos valores en la lista"
      ],
      "metadata": {
        "id": "3B47AzVSBKYi"
      }
    },
    {
      "cell_type": "code",
      "source": [
        "lista = [1, 2, 3, 4, 5, 6, 7, 8]\n",
        "for valor in range(len(lista)):\n",
        "  print(valor)"
      ],
      "metadata": {
        "id": "4BJGEanFBhTK"
      },
      "execution_count": null,
      "outputs": []
    },
    {
      "cell_type": "markdown",
      "source": [
        "*enumerate* devuelve dos valores: el de la posicion y el del elemento en esa posicion"
      ],
      "metadata": {
        "id": "3L-9DGt9CSwL"
      }
    },
    {
      "cell_type": "code",
      "source": [
        "lista = [1, 2, 3, 4, 5, 6, 7, 8]\n",
        "for valor in enumerate(lista):\n",
        "  print(valor)"
      ],
      "metadata": {
        "id": "SqY1uU4VCDUB"
      },
      "execution_count": null,
      "outputs": []
    },
    {
      "cell_type": "code",
      "source": [
        "lista = [1, 2, 3, 4, 5, 6, 7, 8]\n",
        "for posicion, valor in enumerate(lista):\n",
        "  print(f'El valor {valor} esta en la posicion {posicion}')"
      ],
      "metadata": {
        "colab": {
          "base_uri": "https://localhost:8080/"
        },
        "id": "FYh4etb4C7Du",
        "outputId": "9b7a1a30-5238-4ace-eb7e-437481198602"
      },
      "execution_count": 8,
      "outputs": [
        {
          "output_type": "stream",
          "name": "stdout",
          "text": [
            "El valor 1 esta en la posicion 0\n",
            "El valor 2 esta en la posicion 1\n",
            "El valor 3 esta en la posicion 2\n",
            "El valor 4 esta en la posicion 3\n",
            "El valor 5 esta en la posicion 4\n",
            "El valor 6 esta en la posicion 5\n",
            "El valor 7 esta en la posicion 6\n",
            "El valor 8 esta en la posicion 7\n"
          ]
        }
      ]
    }
  ]
}